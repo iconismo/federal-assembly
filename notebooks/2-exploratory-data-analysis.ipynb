{
 "cells": [
  {
   "cell_type": "code",
   "execution_count": 28,
   "metadata": {},
   "outputs": [],
   "source": [
    "import pandas as pd\n",
    "import numpy as np\n",
    "\n",
    "import pickle\n",
    "\n",
    "import matplotlib.pyplot as plt\n",
    "import matplotlib as mpl"
   ]
  },
  {
   "cell_type": "markdown",
   "metadata": {},
   "source": [
    "# Загрузим тексты всех обращений"
   ]
  },
  {
   "cell_type": "code",
   "execution_count": 13,
   "metadata": {},
   "outputs": [],
   "source": [
    "with open('..\\\\data\\\\raw\\\\dataset_link_data.pickle', 'rb') as f:\n",
    "        dataset = pickle.load(f)"
   ]
  },
  {
   "cell_type": "code",
   "execution_count": 14,
   "metadata": {},
   "outputs": [
    {
     "data": {
      "text/html": [
       "<div>\n",
       "<style scoped>\n",
       "    .dataframe tbody tr th:only-of-type {\n",
       "        vertical-align: middle;\n",
       "    }\n",
       "\n",
       "    .dataframe tbody tr th {\n",
       "        vertical-align: top;\n",
       "    }\n",
       "\n",
       "    .dataframe thead th {\n",
       "        text-align: right;\n",
       "    }\n",
       "</style>\n",
       "<table border=\"1\" class=\"dataframe\">\n",
       "  <thead>\n",
       "    <tr style=\"text-align: right;\">\n",
       "      <th></th>\n",
       "      <th>link</th>\n",
       "      <th>data</th>\n",
       "      <th>file_name</th>\n",
       "    </tr>\n",
       "  </thead>\n",
       "  <tbody>\n",
       "    <tr>\n",
       "      <th>0</th>\n",
       "      <td>http://kremlin.ru/events/president/transcripts...</td>\n",
       "      <td>2020-01-15</td>\n",
       "      <td>62582</td>\n",
       "    </tr>\n",
       "    <tr>\n",
       "      <th>1</th>\n",
       "      <td>http://kremlin.ru/events/president/transcripts...</td>\n",
       "      <td>2019-02-20</td>\n",
       "      <td>59863</td>\n",
       "    </tr>\n",
       "    <tr>\n",
       "      <th>2</th>\n",
       "      <td>http://kremlin.ru/events/president/transcripts...</td>\n",
       "      <td>2018-03-01</td>\n",
       "      <td>56957</td>\n",
       "    </tr>\n",
       "    <tr>\n",
       "      <th>3</th>\n",
       "      <td>http://kremlin.ru/events/president/transcripts...</td>\n",
       "      <td>2016-12-01</td>\n",
       "      <td>53379</td>\n",
       "    </tr>\n",
       "    <tr>\n",
       "      <th>4</th>\n",
       "      <td>http://kremlin.ru/events/president/transcripts...</td>\n",
       "      <td>2015-12-03</td>\n",
       "      <td>50864</td>\n",
       "    </tr>\n",
       "    <tr>\n",
       "      <th>5</th>\n",
       "      <td>http://kremlin.ru/events/president/transcripts...</td>\n",
       "      <td>2014-12-04</td>\n",
       "      <td>47173</td>\n",
       "    </tr>\n",
       "    <tr>\n",
       "      <th>6</th>\n",
       "      <td>http://kremlin.ru/events/president/transcripts...</td>\n",
       "      <td>2013-12-12</td>\n",
       "      <td>19825</td>\n",
       "    </tr>\n",
       "    <tr>\n",
       "      <th>7</th>\n",
       "      <td>http://kremlin.ru/events/president/transcripts...</td>\n",
       "      <td>2012-12-12</td>\n",
       "      <td>17118</td>\n",
       "    </tr>\n",
       "    <tr>\n",
       "      <th>8</th>\n",
       "      <td>http://kremlin.ru/events/president/transcripts...</td>\n",
       "      <td>2011-12-22</td>\n",
       "      <td>14088</td>\n",
       "    </tr>\n",
       "    <tr>\n",
       "      <th>9</th>\n",
       "      <td>http://kremlin.ru/events/president/transcripts...</td>\n",
       "      <td>2010-11-30</td>\n",
       "      <td>9637</td>\n",
       "    </tr>\n",
       "    <tr>\n",
       "      <th>10</th>\n",
       "      <td>http://kremlin.ru/events/president/transcripts...</td>\n",
       "      <td>2009-11-12</td>\n",
       "      <td>5979</td>\n",
       "    </tr>\n",
       "    <tr>\n",
       "      <th>11</th>\n",
       "      <td>http://kremlin.ru/events/president/transcripts...</td>\n",
       "      <td>2008-11-05</td>\n",
       "      <td>1968</td>\n",
       "    </tr>\n",
       "  </tbody>\n",
       "</table>\n",
       "</div>"
      ],
      "text/plain": [
       "                                                 link        data file_name\n",
       "0   http://kremlin.ru/events/president/transcripts...  2020-01-15     62582\n",
       "1   http://kremlin.ru/events/president/transcripts...  2019-02-20     59863\n",
       "2   http://kremlin.ru/events/president/transcripts...  2018-03-01     56957\n",
       "3   http://kremlin.ru/events/president/transcripts...  2016-12-01     53379\n",
       "4   http://kremlin.ru/events/president/transcripts...  2015-12-03     50864\n",
       "5   http://kremlin.ru/events/president/transcripts...  2014-12-04     47173\n",
       "6   http://kremlin.ru/events/president/transcripts...  2013-12-12     19825\n",
       "7   http://kremlin.ru/events/president/transcripts...  2012-12-12     17118\n",
       "8   http://kremlin.ru/events/president/transcripts...  2011-12-22     14088\n",
       "9   http://kremlin.ru/events/president/transcripts...  2010-11-30      9637\n",
       "10  http://kremlin.ru/events/president/transcripts...  2009-11-12      5979\n",
       "11  http://kremlin.ru/events/president/transcripts...  2008-11-05      1968"
      ]
     },
     "execution_count": 14,
     "metadata": {},
     "output_type": "execute_result"
    }
   ],
   "source": [
    "dataset"
   ]
  },
  {
   "cell_type": "code",
   "execution_count": 17,
   "metadata": {},
   "outputs": [],
   "source": [
    "message_content = []\n",
    "for name in dataset['file_name']:\n",
    "    f = open(\"..\\\\data\\\\raw\\\\\" + name + \".txt\", \"r\")\n",
    "    if f.mode == 'r':\n",
    "        contents = f.read()\n",
    "    contents = contents.replace('\\n\\n',' ')\n",
    "    message_content.append(contents)"
   ]
  },
  {
   "cell_type": "code",
   "execution_count": 18,
   "metadata": {},
   "outputs": [],
   "source": [
    "dataset['message_content'] = message_content"
   ]
  },
  {
   "cell_type": "code",
   "execution_count": 19,
   "metadata": {},
   "outputs": [
    {
     "data": {
      "text/html": [
       "<div>\n",
       "<style scoped>\n",
       "    .dataframe tbody tr th:only-of-type {\n",
       "        vertical-align: middle;\n",
       "    }\n",
       "\n",
       "    .dataframe tbody tr th {\n",
       "        vertical-align: top;\n",
       "    }\n",
       "\n",
       "    .dataframe thead th {\n",
       "        text-align: right;\n",
       "    }\n",
       "</style>\n",
       "<table border=\"1\" class=\"dataframe\">\n",
       "  <thead>\n",
       "    <tr style=\"text-align: right;\">\n",
       "      <th></th>\n",
       "      <th>link</th>\n",
       "      <th>data</th>\n",
       "      <th>file_name</th>\n",
       "      <th>message_content</th>\n",
       "    </tr>\n",
       "  </thead>\n",
       "  <tbody>\n",
       "    <tr>\n",
       "      <th>0</th>\n",
       "      <td>http://kremlin.ru/events/president/transcripts...</td>\n",
       "      <td>2020-01-15</td>\n",
       "      <td>62582</td>\n",
       "      <td>Уважаемые члены Совета Федерации и депутаты Го...</td>\n",
       "    </tr>\n",
       "    <tr>\n",
       "      <th>1</th>\n",
       "      <td>http://kremlin.ru/events/president/transcripts...</td>\n",
       "      <td>2019-02-20</td>\n",
       "      <td>59863</td>\n",
       "      <td>Уважаемые члены Совета Федерации! Уважаемые де...</td>\n",
       "    </tr>\n",
       "    <tr>\n",
       "      <th>2</th>\n",
       "      <td>http://kremlin.ru/events/president/transcripts...</td>\n",
       "      <td>2018-03-01</td>\n",
       "      <td>56957</td>\n",
       "      <td>Уважаемые граждане России! Уважаемые члены Сов...</td>\n",
       "    </tr>\n",
       "    <tr>\n",
       "      <th>3</th>\n",
       "      <td>http://kremlin.ru/events/president/transcripts...</td>\n",
       "      <td>2016-12-01</td>\n",
       "      <td>53379</td>\n",
       "      <td>Добрый день, уважаемые коллеги! Уважаемые член...</td>\n",
       "    </tr>\n",
       "    <tr>\n",
       "      <th>4</th>\n",
       "      <td>http://kremlin.ru/events/president/transcripts...</td>\n",
       "      <td>2015-12-03</td>\n",
       "      <td>50864</td>\n",
       "      <td>Уважаемые члены Совета Федерации! Уважаемые де...</td>\n",
       "    </tr>\n",
       "    <tr>\n",
       "      <th>5</th>\n",
       "      <td>http://kremlin.ru/events/president/transcripts...</td>\n",
       "      <td>2014-12-04</td>\n",
       "      <td>47173</td>\n",
       "      <td>Уважаемые члены Совета Федерации! Депутаты Гос...</td>\n",
       "    </tr>\n",
       "    <tr>\n",
       "      <th>6</th>\n",
       "      <td>http://kremlin.ru/events/president/transcripts...</td>\n",
       "      <td>2013-12-12</td>\n",
       "      <td>19825</td>\n",
       "      <td>Уважаемые граждане России! Уважаемые члены Сов...</td>\n",
       "    </tr>\n",
       "    <tr>\n",
       "      <th>7</th>\n",
       "      <td>http://kremlin.ru/events/president/transcripts...</td>\n",
       "      <td>2012-12-12</td>\n",
       "      <td>17118</td>\n",
       "      <td>Уважаемые граждане России! Уважаемые члены Сов...</td>\n",
       "    </tr>\n",
       "    <tr>\n",
       "      <th>8</th>\n",
       "      <td>http://kremlin.ru/events/president/transcripts...</td>\n",
       "      <td>2011-12-22</td>\n",
       "      <td>14088</td>\n",
       "      <td>Уважаемые граждане России! Уважаемые депутаты ...</td>\n",
       "    </tr>\n",
       "    <tr>\n",
       "      <th>9</th>\n",
       "      <td>http://kremlin.ru/events/president/transcripts...</td>\n",
       "      <td>2010-11-30</td>\n",
       "      <td>9637</td>\n",
       "      <td>Уважаемые граждане России! Уважаемые депутаты ...</td>\n",
       "    </tr>\n",
       "    <tr>\n",
       "      <th>10</th>\n",
       "      <td>http://kremlin.ru/events/president/transcripts...</td>\n",
       "      <td>2009-11-12</td>\n",
       "      <td>5979</td>\n",
       "      <td>Уважаемые граждане России! Уважаемые депутаты ...</td>\n",
       "    </tr>\n",
       "    <tr>\n",
       "      <th>11</th>\n",
       "      <td>http://kremlin.ru/events/president/transcripts...</td>\n",
       "      <td>2008-11-05</td>\n",
       "      <td>1968</td>\n",
       "      <td>Уважаемые граждане России! Уважаемые депутаты ...</td>\n",
       "    </tr>\n",
       "  </tbody>\n",
       "</table>\n",
       "</div>"
      ],
      "text/plain": [
       "                                                 link        data file_name  \\\n",
       "0   http://kremlin.ru/events/president/transcripts...  2020-01-15     62582   \n",
       "1   http://kremlin.ru/events/president/transcripts...  2019-02-20     59863   \n",
       "2   http://kremlin.ru/events/president/transcripts...  2018-03-01     56957   \n",
       "3   http://kremlin.ru/events/president/transcripts...  2016-12-01     53379   \n",
       "4   http://kremlin.ru/events/president/transcripts...  2015-12-03     50864   \n",
       "5   http://kremlin.ru/events/president/transcripts...  2014-12-04     47173   \n",
       "6   http://kremlin.ru/events/president/transcripts...  2013-12-12     19825   \n",
       "7   http://kremlin.ru/events/president/transcripts...  2012-12-12     17118   \n",
       "8   http://kremlin.ru/events/president/transcripts...  2011-12-22     14088   \n",
       "9   http://kremlin.ru/events/president/transcripts...  2010-11-30      9637   \n",
       "10  http://kremlin.ru/events/president/transcripts...  2009-11-12      5979   \n",
       "11  http://kremlin.ru/events/president/transcripts...  2008-11-05      1968   \n",
       "\n",
       "                                      message_content  \n",
       "0   Уважаемые члены Совета Федерации и депутаты Го...  \n",
       "1   Уважаемые члены Совета Федерации! Уважаемые де...  \n",
       "2   Уважаемые граждане России! Уважаемые члены Сов...  \n",
       "3   Добрый день, уважаемые коллеги! Уважаемые член...  \n",
       "4   Уважаемые члены Совета Федерации! Уважаемые де...  \n",
       "5   Уважаемые члены Совета Федерации! Депутаты Гос...  \n",
       "6   Уважаемые граждане России! Уважаемые члены Сов...  \n",
       "7   Уважаемые граждане России! Уважаемые члены Сов...  \n",
       "8   Уважаемые граждане России! Уважаемые депутаты ...  \n",
       "9   Уважаемые граждане России! Уважаемые депутаты ...  \n",
       "10  Уважаемые граждане России! Уважаемые депутаты ...  \n",
       "11  Уважаемые граждане России! Уважаемые депутаты ...  "
      ]
     },
     "execution_count": 19,
     "metadata": {},
     "output_type": "execute_result"
    }
   ],
   "source": [
    "dataset"
   ]
  },
  {
   "cell_type": "code",
   "execution_count": 20,
   "metadata": {},
   "outputs": [],
   "source": [
    "with open('..\\\\data\\\\interim\\\\dataset.pickle', 'wb') as f:\n",
    "        pickle.dump(dataset, f)"
   ]
  },
  {
   "cell_type": "markdown",
   "metadata": {},
   "source": [
    "# Посмотрим на длину каждого обращения"
   ]
  },
  {
   "cell_type": "code",
   "execution_count": 30,
   "metadata": {},
   "outputs": [],
   "source": [
    "message_len = []\n",
    "for message in dataset['message_content']:\n",
    "    message_len.append(len(message))"
   ]
  },
  {
   "cell_type": "code",
   "execution_count": 31,
   "metadata": {},
   "outputs": [
    {
     "data": {
      "text/plain": [
       "[55672,\n",
       " 71680,\n",
       " 95192,\n",
       " 57344,\n",
       " 49159,\n",
       " 52255,\n",
       " 60321,\n",
       " 71657,\n",
       " 51447,\n",
       " 54726,\n",
       " 76503,\n",
       " 65687]"
      ]
     },
     "execution_count": 31,
     "metadata": {},
     "output_type": "execute_result"
    }
   ],
   "source": [
    "message_len"
   ]
  },
  {
   "cell_type": "code",
   "execution_count": 34,
   "metadata": {},
   "outputs": [
    {
     "data": {
      "image/png": "[encoded data removed]",
      "text/plain": [
       "<Figure size 912x384 with 1 Axes>"
      ]
     },
     "metadata": {
      "needs_background": "light"
     },
     "output_type": "display_data"
    }
   ],
   "source": [
    "dpi = 80\n",
    "fig = plt.figure(dpi = dpi, figsize = (912 / dpi, 384 / dpi) )\n",
    "mpl.rcParams.update({'font.size': 10})\n",
    "\n",
    "plt.axis([0, 10, -1.5, 1.5])\n",
    "\n",
    "plt.title('Количество символов с пробелами в обращении')\n",
    "plt.xlabel('Год')\n",
    "plt.ylabel('Количество символов')\n",
    "\n",
    "X = np.arange(12)\n",
    "Y = message_len\n",
    "\n",
    "plt.bar(X, Y, facecolor='#9999ff', edgecolor='white')\n",
    "plt.xticks(X, dataset['data'])\n",
    "\n",
    "ax = plt.axes()\n",
    "ax.set_yticks(np.arange(0, 100000, 10000))\n",
    "\n",
    "plt.xlim(X.min()-1, X.max()+1)\n",
    "plt.ylim(0, 100000)\n",
    "\n",
    "plt.show()\n",
    "\n",
    "fig.savefig('..\\\\reports\\\\figures\\\\characters_num.png')"
   ]
  },
  {
   "cell_type": "code",
   "execution_count": null,
   "metadata": {},
   "outputs": [],
   "source": []
  }
 ],
 "metadata": {
  "kernelspec": {
   "display_name": "Python 3",
   "language": "python",
   "name": "python3"
  },
  "language_info": {
   "codemirror_mode": {
    "name": "ipython",
    "version": 3
   },
   "file_extension": ".py",
   "mimetype": "text/x-python",
   "name": "python",
   "nbconvert_exporter": "python",
   "pygments_lexer": "ipython3",
   "version": "3.7.1"
  }
 },
 "nbformat": 4,
 "nbformat_minor": 2
}
