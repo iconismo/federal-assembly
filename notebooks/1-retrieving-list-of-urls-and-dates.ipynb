{
 "cells": [
  {
   "cell_type": "code",
   "execution_count": 14,
   "metadata": {},
   "outputs": [],
   "source": [
    "import requests\n",
    "from bs4 import BeautifulSoup\n",
    "import pandas as pd\n",
    "\n",
    "import pickle\n",
    "\n",
    "import matplotlib.pyplot as plt\n",
    "%matplotlib inline  \n",
    "plt.close('all')"
   ]
  },
  {
   "cell_type": "code",
   "execution_count": 5,
   "metadata": {},
   "outputs": [],
   "source": [
    "url = 'http://kremlin.ru/events/president/transcripts/messages'"
   ]
  },
  {
   "cell_type": "code",
   "execution_count": 6,
   "metadata": {},
   "outputs": [],
   "source": [
    "resp = requests.get(url)"
   ]
  },
  {
   "cell_type": "code",
   "execution_count": 7,
   "metadata": {},
   "outputs": [],
   "source": [
    "soup = BeautifulSoup(resp.text, 'lxml')"
   ]
  },
  {
   "cell_type": "code",
   "execution_count": 8,
   "metadata": {},
   "outputs": [],
   "source": [
    "result_set = soup.find_all('h3', {'class': 'hentry__title hentry__title_special'})"
   ]
  },
  {
   "cell_type": "code",
   "execution_count": 9,
   "metadata": {},
   "outputs": [],
   "source": [
    "url_list = []\n",
    "date_list = []\n",
    "for h3_title in result_set:\n",
    "    url_list.append('http://kremlin.ru' + h3_title.find('a').attrs['href'])\n",
    "    datetime = h3_title.find('time', {'class': 'published dt-published'})\n",
    "    date_list.append(datetime.attrs['datetime'])"
   ]
  },
  {
   "cell_type": "code",
   "execution_count": 10,
   "metadata": {},
   "outputs": [
    {
     "data": {
      "text/plain": [
       "['http://kremlin.ru/events/president/transcripts/messages/62582',\n",
       " 'http://kremlin.ru/events/president/transcripts/messages/59863',\n",
       " 'http://kremlin.ru/events/president/transcripts/messages/56957',\n",
       " 'http://kremlin.ru/events/president/transcripts/messages/53379',\n",
       " 'http://kremlin.ru/events/president/transcripts/messages/50864',\n",
       " 'http://kremlin.ru/events/president/transcripts/messages/47173',\n",
       " 'http://kremlin.ru/events/president/transcripts/messages/19825',\n",
       " 'http://kremlin.ru/events/president/transcripts/messages/17118',\n",
       " 'http://kremlin.ru/events/president/transcripts/messages/14088',\n",
       " 'http://kremlin.ru/events/president/transcripts/messages/9637',\n",
       " 'http://kremlin.ru/events/president/transcripts/messages/5979',\n",
       " 'http://kremlin.ru/events/president/transcripts/messages/1968']"
      ]
     },
     "execution_count": 10,
     "metadata": {},
     "output_type": "execute_result"
    }
   ],
   "source": [
    "url_list"
   ]
  },
  {
   "cell_type": "code",
   "execution_count": 11,
   "metadata": {},
   "outputs": [
    {
     "data": {
      "text/plain": [
       "['2020-01-15',\n",
       " '2019-02-20',\n",
       " '2018-03-01',\n",
       " '2016-12-01',\n",
       " '2015-12-03',\n",
       " '2014-12-04',\n",
       " '2013-12-12',\n",
       " '2012-12-12',\n",
       " '2011-12-22',\n",
       " '2010-11-30',\n",
       " '2009-11-12',\n",
       " '2008-11-05']"
      ]
     },
     "execution_count": 11,
     "metadata": {},
     "output_type": "execute_result"
    }
   ],
   "source": [
    "date_list"
   ]
  },
  {
   "cell_type": "code",
   "execution_count": 12,
   "metadata": {},
   "outputs": [],
   "source": [
    "dataset = pd.DataFrame()\n",
    "dataset['link'] = url_list\n",
    "dataset['data'] = date_list"
   ]
  },
  {
   "cell_type": "code",
   "execution_count": 21,
   "metadata": {},
   "outputs": [],
   "source": [
    "file_name = []\n",
    "for link_parts in dataset['link'].str.split('/'):\n",
    "    file_name.append(link_parts[-1])"
   ]
  },
  {
   "cell_type": "code",
   "execution_count": 22,
   "metadata": {},
   "outputs": [],
   "source": [
    "dataset['file_name'] = file_name"
   ]
  },
  {
   "cell_type": "code",
   "execution_count": 23,
   "metadata": {},
   "outputs": [
    {
     "data": {
      "text/html": [
       "<div>\n",
       "<style scoped>\n",
       "    .dataframe tbody tr th:only-of-type {\n",
       "        vertical-align: middle;\n",
       "    }\n",
       "\n",
       "    .dataframe tbody tr th {\n",
       "        vertical-align: top;\n",
       "    }\n",
       "\n",
       "    .dataframe thead th {\n",
       "        text-align: right;\n",
       "    }\n",
       "</style>\n",
       "<table border=\"1\" class=\"dataframe\">\n",
       "  <thead>\n",
       "    <tr style=\"text-align: right;\">\n",
       "      <th></th>\n",
       "      <th>link</th>\n",
       "      <th>data</th>\n",
       "      <th>file_name</th>\n",
       "    </tr>\n",
       "  </thead>\n",
       "  <tbody>\n",
       "    <tr>\n",
       "      <th>0</th>\n",
       "      <td>http://kremlin.ru/events/president/transcripts...</td>\n",
       "      <td>2020-01-15</td>\n",
       "      <td>62582</td>\n",
       "    </tr>\n",
       "    <tr>\n",
       "      <th>1</th>\n",
       "      <td>http://kremlin.ru/events/president/transcripts...</td>\n",
       "      <td>2019-02-20</td>\n",
       "      <td>59863</td>\n",
       "    </tr>\n",
       "    <tr>\n",
       "      <th>2</th>\n",
       "      <td>http://kremlin.ru/events/president/transcripts...</td>\n",
       "      <td>2018-03-01</td>\n",
       "      <td>56957</td>\n",
       "    </tr>\n",
       "    <tr>\n",
       "      <th>3</th>\n",
       "      <td>http://kremlin.ru/events/president/transcripts...</td>\n",
       "      <td>2016-12-01</td>\n",
       "      <td>53379</td>\n",
       "    </tr>\n",
       "    <tr>\n",
       "      <th>4</th>\n",
       "      <td>http://kremlin.ru/events/president/transcripts...</td>\n",
       "      <td>2015-12-03</td>\n",
       "      <td>50864</td>\n",
       "    </tr>\n",
       "    <tr>\n",
       "      <th>5</th>\n",
       "      <td>http://kremlin.ru/events/president/transcripts...</td>\n",
       "      <td>2014-12-04</td>\n",
       "      <td>47173</td>\n",
       "    </tr>\n",
       "    <tr>\n",
       "      <th>6</th>\n",
       "      <td>http://kremlin.ru/events/president/transcripts...</td>\n",
       "      <td>2013-12-12</td>\n",
       "      <td>19825</td>\n",
       "    </tr>\n",
       "    <tr>\n",
       "      <th>7</th>\n",
       "      <td>http://kremlin.ru/events/president/transcripts...</td>\n",
       "      <td>2012-12-12</td>\n",
       "      <td>17118</td>\n",
       "    </tr>\n",
       "    <tr>\n",
       "      <th>8</th>\n",
       "      <td>http://kremlin.ru/events/president/transcripts...</td>\n",
       "      <td>2011-12-22</td>\n",
       "      <td>14088</td>\n",
       "    </tr>\n",
       "    <tr>\n",
       "      <th>9</th>\n",
       "      <td>http://kremlin.ru/events/president/transcripts...</td>\n",
       "      <td>2010-11-30</td>\n",
       "      <td>9637</td>\n",
       "    </tr>\n",
       "    <tr>\n",
       "      <th>10</th>\n",
       "      <td>http://kremlin.ru/events/president/transcripts...</td>\n",
       "      <td>2009-11-12</td>\n",
       "      <td>5979</td>\n",
       "    </tr>\n",
       "    <tr>\n",
       "      <th>11</th>\n",
       "      <td>http://kremlin.ru/events/president/transcripts...</td>\n",
       "      <td>2008-11-05</td>\n",
       "      <td>1968</td>\n",
       "    </tr>\n",
       "  </tbody>\n",
       "</table>\n",
       "</div>"
      ],
      "text/plain": [
       "                                                 link        data file_name\n",
       "0   http://kremlin.ru/events/president/transcripts...  2020-01-15     62582\n",
       "1   http://kremlin.ru/events/president/transcripts...  2019-02-20     59863\n",
       "2   http://kremlin.ru/events/president/transcripts...  2018-03-01     56957\n",
       "3   http://kremlin.ru/events/president/transcripts...  2016-12-01     53379\n",
       "4   http://kremlin.ru/events/president/transcripts...  2015-12-03     50864\n",
       "5   http://kremlin.ru/events/president/transcripts...  2014-12-04     47173\n",
       "6   http://kremlin.ru/events/president/transcripts...  2013-12-12     19825\n",
       "7   http://kremlin.ru/events/president/transcripts...  2012-12-12     17118\n",
       "8   http://kremlin.ru/events/president/transcripts...  2011-12-22     14088\n",
       "9   http://kremlin.ru/events/president/transcripts...  2010-11-30      9637\n",
       "10  http://kremlin.ru/events/president/transcripts...  2009-11-12      5979\n",
       "11  http://kremlin.ru/events/president/transcripts...  2008-11-05      1968"
      ]
     },
     "execution_count": 23,
     "metadata": {},
     "output_type": "execute_result"
    }
   ],
   "source": [
    "dataset"
   ]
  },
  {
   "cell_type": "code",
   "execution_count": 24,
   "metadata": {},
   "outputs": [],
   "source": [
    "with open('..\\\\data\\\\raw\\\\dataset_link_data.pickle', 'wb') as f:\n",
    "        pickle.dump(dataset, f)"
   ]
  },
  {
   "cell_type": "code",
   "execution_count": null,
   "metadata": {},
   "outputs": [],
   "source": []
  }
 ],
 "metadata": {
  "kernelspec": {
   "display_name": "Python 3",
   "language": "python",
   "name": "python3"
  },
  "language_info": {
   "codemirror_mode": {
    "name": "ipython",
    "version": 3
   },
   "file_extension": ".py",
   "mimetype": "text/x-python",
   "name": "python",
   "nbconvert_exporter": "python",
   "pygments_lexer": "ipython3",
   "version": "3.7.1"
  }
 },
 "nbformat": 4,
 "nbformat_minor": 2
}
