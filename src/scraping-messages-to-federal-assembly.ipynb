{
 "cells": [
  {
   "cell_type": "markdown",
   "metadata": {},
   "source": [
    "# 1. Извлечение списка URL"
   ]
  },
  {
   "cell_type": "code",
   "execution_count": 23,
   "metadata": {},
   "outputs": [],
   "source": [
    "import requests\n",
    "from bs4 import BeautifulSoup\n",
    "import pandas as pd\n",
    "\n",
    "import matplotlib.pyplot as plt\n",
    "%matplotlib inline  \n",
    "plt.close('all')"
   ]
  },
  {
   "cell_type": "code",
   "execution_count": 2,
   "metadata": {},
   "outputs": [],
   "source": [
    "url = 'http://kremlin.ru/events/president/transcripts/messages'"
   ]
  },
  {
   "cell_type": "code",
   "execution_count": 3,
   "metadata": {},
   "outputs": [],
   "source": [
    "resp = requests.get(url)"
   ]
  },
  {
   "cell_type": "code",
   "execution_count": 4,
   "metadata": {},
   "outputs": [],
   "source": [
    "soup = BeautifulSoup(resp.text, 'lxml')"
   ]
  },
  {
   "cell_type": "code",
   "execution_count": 5,
   "metadata": {},
   "outputs": [
    {
     "data": {
      "text/plain": [
       "[<h3 class=\"hentry__title hentry__title_special\"> <a href=\"/events/president/transcripts/messages/62582\" itemprop=\"url\" rel=\"bookmark\"><span class=\"entry-title p-name\" itemprop=\"name\">Послание Президента Федеральному Собранию</span> <span class=\"hentry__meta\"> <time class=\"published dt-published\" datetime=\"2020-01-15\" itemprop=\"datePublished\">15 января 2020 года, 13:15</time> <span class=\"updated hidden\" hidden=\"hidden\">2020-01-28</span> <span class=\"author vcard hidden\" hidden=\"hidden\"><span class=\"fn\">Отдел редакции официального сайта Президента России</span></span> <span class=\"hentry__location p-location\">Москва</span> </span> </a> </h3>,\n",
       " <h3 class=\"hentry__title hentry__title_special\"> <a href=\"/events/president/transcripts/messages/59863\" itemprop=\"url\" rel=\"bookmark\"><span class=\"entry-title p-name\" itemprop=\"name\">Послание Президента Федеральному Собранию</span> <span class=\"hentry__meta\"> <time class=\"published dt-published\" datetime=\"2019-02-20\" itemprop=\"datePublished\">20 февраля 2019 года, 13:30</time> <span class=\"updated hidden\" hidden=\"hidden\">2019-02-26</span> <span class=\"author vcard hidden\" hidden=\"hidden\"><span class=\"fn\">Отдел редакции официального сайта Президента России</span></span> <span class=\"hentry__location p-location\">Москва</span> </span> </a> </h3>,\n",
       " <h3 class=\"hentry__title hentry__title_special\"> <a href=\"/events/president/transcripts/messages/56957\" itemprop=\"url\" rel=\"bookmark\"><span class=\"entry-title p-name\" itemprop=\"name\">Послание Президента Федеральному Собранию</span> <span class=\"hentry__meta\"> <time class=\"published dt-published\" datetime=\"2018-03-01\" itemprop=\"datePublished\">1 марта 2018 года, 14:00</time> <span class=\"updated hidden\" hidden=\"hidden\">2018-03-15</span> <span class=\"author vcard hidden\" hidden=\"hidden\"><span class=\"fn\">Отдел редакции официального сайта Президента России</span></span> <span class=\"hentry__location p-location\">Москва</span> </span> </a> </h3>,\n",
       " <h3 class=\"hentry__title hentry__title_special\"> <a href=\"/events/president/transcripts/messages/53379\" itemprop=\"url\" rel=\"bookmark\"><span class=\"entry-title p-name\" itemprop=\"name\">Послание Президента Федеральному Собранию</span> <span class=\"hentry__meta\"> <time class=\"published dt-published\" datetime=\"2016-12-01\" itemprop=\"datePublished\">1 декабря 2016 года, 13:10</time> <span class=\"updated hidden\" hidden=\"hidden\">2016-12-05</span> <span class=\"author vcard hidden\" hidden=\"hidden\"><span class=\"fn\">Отдел редакции официального сайта Президента России</span></span> <span class=\"hentry__location p-location\">Москва, Кремль</span> </span> </a> </h3>,\n",
       " <h3 class=\"hentry__title hentry__title_special\"> <a href=\"/events/president/transcripts/messages/50864\" itemprop=\"url\" rel=\"bookmark\"><span class=\"entry-title p-name\" itemprop=\"name\">Послание Президента Федеральному Собранию</span> <span class=\"hentry__meta\"> <time class=\"published dt-published\" datetime=\"2015-12-03\" itemprop=\"datePublished\">3 декабря 2015 года, 13:00</time> <span class=\"updated hidden\" hidden=\"hidden\">2015-12-24</span> <span class=\"author vcard hidden\" hidden=\"hidden\"><span class=\"fn\">Отдел редакции официального сайта Президента России</span></span> <span class=\"hentry__location p-location\">Москва, Кремль</span> </span> </a> </h3>,\n",
       " <h3 class=\"hentry__title hentry__title_special\"> <a href=\"/events/president/transcripts/messages/47173\" itemprop=\"url\" rel=\"bookmark\"><span class=\"entry-title p-name\" itemprop=\"name\">Послание Президента Федеральному Собранию</span> <span class=\"hentry__meta\"> <time class=\"published dt-published\" datetime=\"2014-12-04\" itemprop=\"datePublished\">4 декабря 2014 года, 13:20</time> <span class=\"updated hidden\" hidden=\"hidden\">2015-11-20</span> <span class=\"author vcard hidden\" hidden=\"hidden\"><span class=\"fn\">Отдел редакции официального сайта Президента России</span></span> <span class=\"hentry__location p-location\">Москва, Кремль</span> </span> </a> </h3>,\n",
       " <h3 class=\"hentry__title hentry__title_special\"> <a href=\"/events/president/transcripts/messages/19825\" itemprop=\"url\" rel=\"bookmark\"><span class=\"entry-title p-name\" itemprop=\"name\">Послание Президента Федеральному Собранию</span> <span class=\"hentry__meta\"> <time class=\"published dt-published\" datetime=\"2013-12-12\" itemprop=\"datePublished\">12 декабря 2013 года, 13:15</time> <span class=\"updated hidden\" hidden=\"hidden\">2015-04-24</span> <span class=\"author vcard hidden\" hidden=\"hidden\"><span class=\"fn\">Отдел редакции официального сайта Президента России</span></span> <span class=\"hentry__location p-location\">Москва, Кремль</span> </span> </a> </h3>,\n",
       " <h3 class=\"hentry__title hentry__title_special\"> <a href=\"/events/president/transcripts/messages/17118\" itemprop=\"url\" rel=\"bookmark\"><span class=\"entry-title p-name\" itemprop=\"name\">Послание Президента Федеральному Собранию</span> <span class=\"hentry__meta\"> <time class=\"published dt-published\" datetime=\"2012-12-12\" itemprop=\"datePublished\">12 декабря 2012 года, 13:30</time> <span class=\"updated hidden\" hidden=\"hidden\">2012-12-12</span> <span class=\"author vcard hidden\" hidden=\"hidden\"><span class=\"fn\">Отдел редакции официального сайта Президента России</span></span> <span class=\"hentry__location p-location\">Москва, Кремль</span> </span> </a> </h3>,\n",
       " <h3 class=\"hentry__title hentry__title_special\"> <a href=\"/events/president/transcripts/messages/14088\" itemprop=\"url\" rel=\"bookmark\"><span class=\"entry-title p-name\" itemprop=\"name\">Послание Президента Федеральному Собранию</span> <span class=\"hentry__meta\"> <time class=\"published dt-published\" datetime=\"2011-12-22\" itemprop=\"datePublished\">22 декабря 2011 года, 13:00</time> <span class=\"updated hidden\" hidden=\"hidden\">2011-12-22</span> <span class=\"author vcard hidden\" hidden=\"hidden\"><span class=\"fn\">Отдел редакции официального сайта Президента России</span></span> <span class=\"hentry__location p-location\">Москва, Кремль</span> </span> </a> </h3>,\n",
       " <h3 class=\"hentry__title hentry__title_special\"> <a href=\"/events/president/transcripts/messages/9637\" itemprop=\"url\" rel=\"bookmark\"><span class=\"entry-title p-name\" itemprop=\"name\">Послание Президента Федеральному Собранию</span> <span class=\"hentry__meta\"> <time class=\"published dt-published\" datetime=\"2010-11-30\" itemprop=\"datePublished\">30 ноября 2010 года, 13:00</time> <span class=\"updated hidden\" hidden=\"hidden\">2010-11-30</span> <span class=\"author vcard hidden\" hidden=\"hidden\"><span class=\"fn\">Отдел редакции официального сайта Президента России</span></span> <span class=\"hentry__location p-location\">Москва, Кремль</span> </span> </a> </h3>,\n",
       " <h3 class=\"hentry__title hentry__title_special\"> <a href=\"/events/president/transcripts/messages/5979\" itemprop=\"url\" rel=\"bookmark\"><span class=\"entry-title p-name\" itemprop=\"name\">Послание Федеральному Собранию Российской Федерации</span> <span class=\"hentry__meta\"> <time class=\"published dt-published\" datetime=\"2009-11-12\" itemprop=\"datePublished\">12 ноября 2009 года, 13:45</time> <span class=\"updated hidden\" hidden=\"hidden\">2015-04-22</span> <span class=\"author vcard hidden\" hidden=\"hidden\"><span class=\"fn\">Отдел редакции официального сайта Президента России</span></span> <span class=\"hentry__location p-location\">Москва, Большой Кремлёвский дворец</span> </span> </a> </h3>,\n",
       " <h3 class=\"hentry__title hentry__title_special\"> <a href=\"/events/president/transcripts/messages/1968\" itemprop=\"url\" rel=\"bookmark\"><span class=\"entry-title p-name\" itemprop=\"name\">Послание Федеральному Собранию Российской Федерации</span> <span class=\"hentry__meta\"> <time class=\"published dt-published\" datetime=\"2008-11-05\" itemprop=\"datePublished\">5 ноября 2008 года, 13:45</time> <span class=\"updated hidden\" hidden=\"hidden\">2008-11-05</span> <span class=\"author vcard hidden\" hidden=\"hidden\"><span class=\"fn\">Отдел редакции официального сайта Президента России</span></span> <span class=\"hentry__location p-location\">Москва, Большой Кремлёвский дворец</span> </span> </a> </h3>]"
      ]
     },
     "execution_count": 5,
     "metadata": {},
     "output_type": "execute_result"
    }
   ],
   "source": [
    "ResultSet = soup.find_all('h3', {'class': 'hentry__title hentry__title_special'})\n",
    "ResultSet"
   ]
  },
  {
   "cell_type": "code",
   "execution_count": 6,
   "metadata": {},
   "outputs": [],
   "source": [
    "url_list = []\n",
    "date_list = []\n",
    "for h3_title in ResultSet:\n",
    "    url_list.append('http://kremlin.ru' + h3_title.find('a').attrs['href'])\n",
    "    datetime = h3_title.find('time', {'class': 'published dt-published'})\n",
    "    date_list.append(datetime.attrs['datetime'])"
   ]
  },
  {
   "cell_type": "code",
   "execution_count": 7,
   "metadata": {},
   "outputs": [
    {
     "data": {
      "text/plain": [
       "['http://kremlin.ru/events/president/transcripts/messages/62582',\n",
       " 'http://kremlin.ru/events/president/transcripts/messages/59863',\n",
       " 'http://kremlin.ru/events/president/transcripts/messages/56957',\n",
       " 'http://kremlin.ru/events/president/transcripts/messages/53379',\n",
       " 'http://kremlin.ru/events/president/transcripts/messages/50864',\n",
       " 'http://kremlin.ru/events/president/transcripts/messages/47173',\n",
       " 'http://kremlin.ru/events/president/transcripts/messages/19825',\n",
       " 'http://kremlin.ru/events/president/transcripts/messages/17118',\n",
       " 'http://kremlin.ru/events/president/transcripts/messages/14088',\n",
       " 'http://kremlin.ru/events/president/transcripts/messages/9637',\n",
       " 'http://kremlin.ru/events/president/transcripts/messages/5979',\n",
       " 'http://kremlin.ru/events/president/transcripts/messages/1968']"
      ]
     },
     "execution_count": 7,
     "metadata": {},
     "output_type": "execute_result"
    }
   ],
   "source": [
    "url_list"
   ]
  },
  {
   "cell_type": "code",
   "execution_count": 8,
   "metadata": {},
   "outputs": [
    {
     "data": {
      "text/plain": [
       "['2020-01-15',\n",
       " '2019-02-20',\n",
       " '2018-03-01',\n",
       " '2016-12-01',\n",
       " '2015-12-03',\n",
       " '2014-12-04',\n",
       " '2013-12-12',\n",
       " '2012-12-12',\n",
       " '2011-12-22',\n",
       " '2010-11-30',\n",
       " '2009-11-12',\n",
       " '2008-11-05']"
      ]
     },
     "execution_count": 8,
     "metadata": {},
     "output_type": "execute_result"
    }
   ],
   "source": [
    "date_list"
   ]
  },
  {
   "cell_type": "code",
   "execution_count": 9,
   "metadata": {},
   "outputs": [],
   "source": [
    "dataset = pd.DataFrame()\n",
    "dataset['link'] = url_list\n",
    "dataset['data'] = date_list"
   ]
  },
  {
   "cell_type": "code",
   "execution_count": 10,
   "metadata": {},
   "outputs": [
    {
     "data": {
      "text/html": [
       "<div>\n",
       "<style scoped>\n",
       "    .dataframe tbody tr th:only-of-type {\n",
       "        vertical-align: middle;\n",
       "    }\n",
       "\n",
       "    .dataframe tbody tr th {\n",
       "        vertical-align: top;\n",
       "    }\n",
       "\n",
       "    .dataframe thead th {\n",
       "        text-align: right;\n",
       "    }\n",
       "</style>\n",
       "<table border=\"1\" class=\"dataframe\">\n",
       "  <thead>\n",
       "    <tr style=\"text-align: right;\">\n",
       "      <th></th>\n",
       "      <th>link</th>\n",
       "      <th>data</th>\n",
       "    </tr>\n",
       "  </thead>\n",
       "  <tbody>\n",
       "    <tr>\n",
       "      <th>0</th>\n",
       "      <td>http://kremlin.ru/events/president/transcripts...</td>\n",
       "      <td>2020-01-15</td>\n",
       "    </tr>\n",
       "    <tr>\n",
       "      <th>1</th>\n",
       "      <td>http://kremlin.ru/events/president/transcripts...</td>\n",
       "      <td>2019-02-20</td>\n",
       "    </tr>\n",
       "    <tr>\n",
       "      <th>2</th>\n",
       "      <td>http://kremlin.ru/events/president/transcripts...</td>\n",
       "      <td>2018-03-01</td>\n",
       "    </tr>\n",
       "    <tr>\n",
       "      <th>3</th>\n",
       "      <td>http://kremlin.ru/events/president/transcripts...</td>\n",
       "      <td>2016-12-01</td>\n",
       "    </tr>\n",
       "    <tr>\n",
       "      <th>4</th>\n",
       "      <td>http://kremlin.ru/events/president/transcripts...</td>\n",
       "      <td>2015-12-03</td>\n",
       "    </tr>\n",
       "    <tr>\n",
       "      <th>5</th>\n",
       "      <td>http://kremlin.ru/events/president/transcripts...</td>\n",
       "      <td>2014-12-04</td>\n",
       "    </tr>\n",
       "    <tr>\n",
       "      <th>6</th>\n",
       "      <td>http://kremlin.ru/events/president/transcripts...</td>\n",
       "      <td>2013-12-12</td>\n",
       "    </tr>\n",
       "    <tr>\n",
       "      <th>7</th>\n",
       "      <td>http://kremlin.ru/events/president/transcripts...</td>\n",
       "      <td>2012-12-12</td>\n",
       "    </tr>\n",
       "    <tr>\n",
       "      <th>8</th>\n",
       "      <td>http://kremlin.ru/events/president/transcripts...</td>\n",
       "      <td>2011-12-22</td>\n",
       "    </tr>\n",
       "    <tr>\n",
       "      <th>9</th>\n",
       "      <td>http://kremlin.ru/events/president/transcripts...</td>\n",
       "      <td>2010-11-30</td>\n",
       "    </tr>\n",
       "    <tr>\n",
       "      <th>10</th>\n",
       "      <td>http://kremlin.ru/events/president/transcripts...</td>\n",
       "      <td>2009-11-12</td>\n",
       "    </tr>\n",
       "    <tr>\n",
       "      <th>11</th>\n",
       "      <td>http://kremlin.ru/events/president/transcripts...</td>\n",
       "      <td>2008-11-05</td>\n",
       "    </tr>\n",
       "  </tbody>\n",
       "</table>\n",
       "</div>"
      ],
      "text/plain": [
       "                                                 link        data\n",
       "0   http://kremlin.ru/events/president/transcripts...  2020-01-15\n",
       "1   http://kremlin.ru/events/president/transcripts...  2019-02-20\n",
       "2   http://kremlin.ru/events/president/transcripts...  2018-03-01\n",
       "3   http://kremlin.ru/events/president/transcripts...  2016-12-01\n",
       "4   http://kremlin.ru/events/president/transcripts...  2015-12-03\n",
       "5   http://kremlin.ru/events/president/transcripts...  2014-12-04\n",
       "6   http://kremlin.ru/events/president/transcripts...  2013-12-12\n",
       "7   http://kremlin.ru/events/president/transcripts...  2012-12-12\n",
       "8   http://kremlin.ru/events/president/transcripts...  2011-12-22\n",
       "9   http://kremlin.ru/events/president/transcripts...  2010-11-30\n",
       "10  http://kremlin.ru/events/president/transcripts...  2009-11-12\n",
       "11  http://kremlin.ru/events/president/transcripts...  2008-11-05"
      ]
     },
     "execution_count": 10,
     "metadata": {},
     "output_type": "execute_result"
    }
   ],
   "source": [
    "dataset"
   ]
  },
  {
   "cell_type": "markdown",
   "metadata": {},
   "source": [
    "# 2. Загрузка текстов посланий федеральному собранию"
   ]
  },
  {
   "cell_type": "code",
   "execution_count": 11,
   "metadata": {},
   "outputs": [],
   "source": [
    "content_list= []\n",
    "for num in range(0,len(date_list)):\n",
    "    resp_message = requests.get(url_list[num])\n",
    "    soup_message = BeautifulSoup(resp_message.text, 'lxml')\n",
    "    content = soup_message.find('div', {'class': 'entry-content e-content read__internal_content'})\n",
    "    content_list.append(content)"
   ]
  },
  {
   "cell_type": "code",
   "execution_count": 12,
   "metadata": {},
   "outputs": [],
   "source": [
    "dataset['content'] = content_list"
   ]
  },
  {
   "cell_type": "code",
   "execution_count": 13,
   "metadata": {},
   "outputs": [
    {
     "data": {
      "text/html": [
       "<div>\n",
       "<style scoped>\n",
       "    .dataframe tbody tr th:only-of-type {\n",
       "        vertical-align: middle;\n",
       "    }\n",
       "\n",
       "    .dataframe tbody tr th {\n",
       "        vertical-align: top;\n",
       "    }\n",
       "\n",
       "    .dataframe thead th {\n",
       "        text-align: right;\n",
       "    }\n",
       "</style>\n",
       "<table border=\"1\" class=\"dataframe\">\n",
       "  <thead>\n",
       "    <tr style=\"text-align: right;\">\n",
       "      <th></th>\n",
       "      <th>link</th>\n",
       "      <th>data</th>\n",
       "      <th>content</th>\n",
       "    </tr>\n",
       "  </thead>\n",
       "  <tbody>\n",
       "    <tr>\n",
       "      <th>0</th>\n",
       "      <td>http://kremlin.ru/events/president/transcripts...</td>\n",
       "      <td>2020-01-15</td>\n",
       "      <td>&lt;div class=\"entry-content e-content read__inte...</td>\n",
       "    </tr>\n",
       "    <tr>\n",
       "      <th>1</th>\n",
       "      <td>http://kremlin.ru/events/president/transcripts...</td>\n",
       "      <td>2019-02-20</td>\n",
       "      <td>&lt;div class=\"entry-content e-content read__inte...</td>\n",
       "    </tr>\n",
       "    <tr>\n",
       "      <th>2</th>\n",
       "      <td>http://kremlin.ru/events/president/transcripts...</td>\n",
       "      <td>2018-03-01</td>\n",
       "      <td>&lt;div class=\"entry-content e-content read__inte...</td>\n",
       "    </tr>\n",
       "    <tr>\n",
       "      <th>3</th>\n",
       "      <td>http://kremlin.ru/events/president/transcripts...</td>\n",
       "      <td>2016-12-01</td>\n",
       "      <td>&lt;div class=\"entry-content e-content read__inte...</td>\n",
       "    </tr>\n",
       "    <tr>\n",
       "      <th>4</th>\n",
       "      <td>http://kremlin.ru/events/president/transcripts...</td>\n",
       "      <td>2015-12-03</td>\n",
       "      <td>&lt;div class=\"entry-content e-content read__inte...</td>\n",
       "    </tr>\n",
       "    <tr>\n",
       "      <th>5</th>\n",
       "      <td>http://kremlin.ru/events/president/transcripts...</td>\n",
       "      <td>2014-12-04</td>\n",
       "      <td>&lt;div class=\"entry-content e-content read__inte...</td>\n",
       "    </tr>\n",
       "    <tr>\n",
       "      <th>6</th>\n",
       "      <td>http://kremlin.ru/events/president/transcripts...</td>\n",
       "      <td>2013-12-12</td>\n",
       "      <td>&lt;div class=\"entry-content e-content read__inte...</td>\n",
       "    </tr>\n",
       "    <tr>\n",
       "      <th>7</th>\n",
       "      <td>http://kremlin.ru/events/president/transcripts...</td>\n",
       "      <td>2012-12-12</td>\n",
       "      <td>&lt;div class=\"entry-content e-content read__inte...</td>\n",
       "    </tr>\n",
       "    <tr>\n",
       "      <th>8</th>\n",
       "      <td>http://kremlin.ru/events/president/transcripts...</td>\n",
       "      <td>2011-12-22</td>\n",
       "      <td>&lt;div class=\"entry-content e-content read__inte...</td>\n",
       "    </tr>\n",
       "    <tr>\n",
       "      <th>9</th>\n",
       "      <td>http://kremlin.ru/events/president/transcripts...</td>\n",
       "      <td>2010-11-30</td>\n",
       "      <td>&lt;div class=\"entry-content e-content read__inte...</td>\n",
       "    </tr>\n",
       "    <tr>\n",
       "      <th>10</th>\n",
       "      <td>http://kremlin.ru/events/president/transcripts...</td>\n",
       "      <td>2009-11-12</td>\n",
       "      <td>&lt;div class=\"entry-content e-content read__inte...</td>\n",
       "    </tr>\n",
       "    <tr>\n",
       "      <th>11</th>\n",
       "      <td>http://kremlin.ru/events/president/transcripts...</td>\n",
       "      <td>2008-11-05</td>\n",
       "      <td>&lt;div class=\"entry-content e-content read__inte...</td>\n",
       "    </tr>\n",
       "  </tbody>\n",
       "</table>\n",
       "</div>"
      ],
      "text/plain": [
       "                                                 link        data  \\\n",
       "0   http://kremlin.ru/events/president/transcripts...  2020-01-15   \n",
       "1   http://kremlin.ru/events/president/transcripts...  2019-02-20   \n",
       "2   http://kremlin.ru/events/president/transcripts...  2018-03-01   \n",
       "3   http://kremlin.ru/events/president/transcripts...  2016-12-01   \n",
       "4   http://kremlin.ru/events/president/transcripts...  2015-12-03   \n",
       "5   http://kremlin.ru/events/president/transcripts...  2014-12-04   \n",
       "6   http://kremlin.ru/events/president/transcripts...  2013-12-12   \n",
       "7   http://kremlin.ru/events/president/transcripts...  2012-12-12   \n",
       "8   http://kremlin.ru/events/president/transcripts...  2011-12-22   \n",
       "9   http://kremlin.ru/events/president/transcripts...  2010-11-30   \n",
       "10  http://kremlin.ru/events/president/transcripts...  2009-11-12   \n",
       "11  http://kremlin.ru/events/president/transcripts...  2008-11-05   \n",
       "\n",
       "                                              content  \n",
       "0   <div class=\"entry-content e-content read__inte...  \n",
       "1   <div class=\"entry-content e-content read__inte...  \n",
       "2   <div class=\"entry-content e-content read__inte...  \n",
       "3   <div class=\"entry-content e-content read__inte...  \n",
       "4   <div class=\"entry-content e-content read__inte...  \n",
       "5   <div class=\"entry-content e-content read__inte...  \n",
       "6   <div class=\"entry-content e-content read__inte...  \n",
       "7   <div class=\"entry-content e-content read__inte...  \n",
       "8   <div class=\"entry-content e-content read__inte...  \n",
       "9   <div class=\"entry-content e-content read__inte...  \n",
       "10  <div class=\"entry-content e-content read__inte...  \n",
       "11  <div class=\"entry-content e-content read__inte...  "
      ]
     },
     "execution_count": 13,
     "metadata": {},
     "output_type": "execute_result"
    }
   ],
   "source": [
    "dataset"
   ]
  },
  {
   "cell_type": "code",
   "execution_count": 14,
   "metadata": {},
   "outputs": [],
   "source": [
    "#print(dataset['content'][0].text)"
   ]
  },
  {
   "cell_type": "markdown",
   "metadata": {},
   "source": [
    "# 3. Анализ"
   ]
  },
  {
   "cell_type": "code",
   "execution_count": 18,
   "metadata": {},
   "outputs": [],
   "source": [
    "spech_len = []"
   ]
  },
  {
   "cell_type": "code",
   "execution_count": 19,
   "metadata": {},
   "outputs": [
    {
     "name": "stdout",
     "output_type": "stream",
     "text": [
      "56852\n",
      "72393\n",
      "96618\n",
      "57977\n",
      "50328\n",
      "53046\n",
      "61645\n",
      "72629\n",
      "51744\n",
      "55298\n",
      "76992\n",
      "65895\n"
     ]
    }
   ],
   "source": [
    "for i in dataset['content']:\n",
    "    spech_len.append(len(i.text))\n",
    "    print(len(i.text))"
   ]
  },
  {
   "cell_type": "code",
   "execution_count": 20,
   "metadata": {},
   "outputs": [],
   "source": [
    "dataset['spech_len'] = spech_len"
   ]
  },
  {
   "cell_type": "code",
   "execution_count": 21,
   "metadata": {},
   "outputs": [
    {
     "data": {
      "text/html": [
       "<div>\n",
       "<style scoped>\n",
       "    .dataframe tbody tr th:only-of-type {\n",
       "        vertical-align: middle;\n",
       "    }\n",
       "\n",
       "    .dataframe tbody tr th {\n",
       "        vertical-align: top;\n",
       "    }\n",
       "\n",
       "    .dataframe thead th {\n",
       "        text-align: right;\n",
       "    }\n",
       "</style>\n",
       "<table border=\"1\" class=\"dataframe\">\n",
       "  <thead>\n",
       "    <tr style=\"text-align: right;\">\n",
       "      <th></th>\n",
       "      <th>link</th>\n",
       "      <th>data</th>\n",
       "      <th>content</th>\n",
       "      <th>spech_len</th>\n",
       "    </tr>\n",
       "  </thead>\n",
       "  <tbody>\n",
       "    <tr>\n",
       "      <th>0</th>\n",
       "      <td>http://kremlin.ru/events/president/transcripts...</td>\n",
       "      <td>2020-01-15</td>\n",
       "      <td>&lt;div class=\"entry-content e-content read__inte...</td>\n",
       "      <td>56852</td>\n",
       "    </tr>\n",
       "    <tr>\n",
       "      <th>1</th>\n",
       "      <td>http://kremlin.ru/events/president/transcripts...</td>\n",
       "      <td>2019-02-20</td>\n",
       "      <td>&lt;div class=\"entry-content e-content read__inte...</td>\n",
       "      <td>72393</td>\n",
       "    </tr>\n",
       "    <tr>\n",
       "      <th>2</th>\n",
       "      <td>http://kremlin.ru/events/president/transcripts...</td>\n",
       "      <td>2018-03-01</td>\n",
       "      <td>&lt;div class=\"entry-content e-content read__inte...</td>\n",
       "      <td>96618</td>\n",
       "    </tr>\n",
       "    <tr>\n",
       "      <th>3</th>\n",
       "      <td>http://kremlin.ru/events/president/transcripts...</td>\n",
       "      <td>2016-12-01</td>\n",
       "      <td>&lt;div class=\"entry-content e-content read__inte...</td>\n",
       "      <td>57977</td>\n",
       "    </tr>\n",
       "    <tr>\n",
       "      <th>4</th>\n",
       "      <td>http://kremlin.ru/events/president/transcripts...</td>\n",
       "      <td>2015-12-03</td>\n",
       "      <td>&lt;div class=\"entry-content e-content read__inte...</td>\n",
       "      <td>50328</td>\n",
       "    </tr>\n",
       "    <tr>\n",
       "      <th>5</th>\n",
       "      <td>http://kremlin.ru/events/president/transcripts...</td>\n",
       "      <td>2014-12-04</td>\n",
       "      <td>&lt;div class=\"entry-content e-content read__inte...</td>\n",
       "      <td>53046</td>\n",
       "    </tr>\n",
       "    <tr>\n",
       "      <th>6</th>\n",
       "      <td>http://kremlin.ru/events/president/transcripts...</td>\n",
       "      <td>2013-12-12</td>\n",
       "      <td>&lt;div class=\"entry-content e-content read__inte...</td>\n",
       "      <td>61645</td>\n",
       "    </tr>\n",
       "    <tr>\n",
       "      <th>7</th>\n",
       "      <td>http://kremlin.ru/events/president/transcripts...</td>\n",
       "      <td>2012-12-12</td>\n",
       "      <td>&lt;div class=\"entry-content e-content read__inte...</td>\n",
       "      <td>72629</td>\n",
       "    </tr>\n",
       "    <tr>\n",
       "      <th>8</th>\n",
       "      <td>http://kremlin.ru/events/president/transcripts...</td>\n",
       "      <td>2011-12-22</td>\n",
       "      <td>&lt;div class=\"entry-content e-content read__inte...</td>\n",
       "      <td>51744</td>\n",
       "    </tr>\n",
       "    <tr>\n",
       "      <th>9</th>\n",
       "      <td>http://kremlin.ru/events/president/transcripts...</td>\n",
       "      <td>2010-11-30</td>\n",
       "      <td>&lt;div class=\"entry-content e-content read__inte...</td>\n",
       "      <td>55298</td>\n",
       "    </tr>\n",
       "    <tr>\n",
       "      <th>10</th>\n",
       "      <td>http://kremlin.ru/events/president/transcripts...</td>\n",
       "      <td>2009-11-12</td>\n",
       "      <td>&lt;div class=\"entry-content e-content read__inte...</td>\n",
       "      <td>76992</td>\n",
       "    </tr>\n",
       "    <tr>\n",
       "      <th>11</th>\n",
       "      <td>http://kremlin.ru/events/president/transcripts...</td>\n",
       "      <td>2008-11-05</td>\n",
       "      <td>&lt;div class=\"entry-content e-content read__inte...</td>\n",
       "      <td>65895</td>\n",
       "    </tr>\n",
       "  </tbody>\n",
       "</table>\n",
       "</div>"
      ],
      "text/plain": [
       "                                                 link        data  \\\n",
       "0   http://kremlin.ru/events/president/transcripts...  2020-01-15   \n",
       "1   http://kremlin.ru/events/president/transcripts...  2019-02-20   \n",
       "2   http://kremlin.ru/events/president/transcripts...  2018-03-01   \n",
       "3   http://kremlin.ru/events/president/transcripts...  2016-12-01   \n",
       "4   http://kremlin.ru/events/president/transcripts...  2015-12-03   \n",
       "5   http://kremlin.ru/events/president/transcripts...  2014-12-04   \n",
       "6   http://kremlin.ru/events/president/transcripts...  2013-12-12   \n",
       "7   http://kremlin.ru/events/president/transcripts...  2012-12-12   \n",
       "8   http://kremlin.ru/events/president/transcripts...  2011-12-22   \n",
       "9   http://kremlin.ru/events/president/transcripts...  2010-11-30   \n",
       "10  http://kremlin.ru/events/president/transcripts...  2009-11-12   \n",
       "11  http://kremlin.ru/events/president/transcripts...  2008-11-05   \n",
       "\n",
       "                                              content  spech_len  \n",
       "0   <div class=\"entry-content e-content read__inte...      56852  \n",
       "1   <div class=\"entry-content e-content read__inte...      72393  \n",
       "2   <div class=\"entry-content e-content read__inte...      96618  \n",
       "3   <div class=\"entry-content e-content read__inte...      57977  \n",
       "4   <div class=\"entry-content e-content read__inte...      50328  \n",
       "5   <div class=\"entry-content e-content read__inte...      53046  \n",
       "6   <div class=\"entry-content e-content read__inte...      61645  \n",
       "7   <div class=\"entry-content e-content read__inte...      72629  \n",
       "8   <div class=\"entry-content e-content read__inte...      51744  \n",
       "9   <div class=\"entry-content e-content read__inte...      55298  \n",
       "10  <div class=\"entry-content e-content read__inte...      76992  \n",
       "11  <div class=\"entry-content e-content read__inte...      65895  "
      ]
     },
     "execution_count": 21,
     "metadata": {},
     "output_type": "execute_result"
    }
   ],
   "source": [
    "dataset"
   ]
  },
  {
   "cell_type": "code",
   "execution_count": 27,
   "metadata": {},
   "outputs": [
    {
     "data": {
      "image/png": "[encoded data removed]",
      "text/plain": [
       "<Figure size 432x288 with 1 Axes>"
      ]
     },
     "metadata": {
      "needs_background": "light"
     },
     "output_type": "display_data"
    }
   ],
   "source": [
    "dataset['spech_len'].plot.bar(x='data');"
   ]
  },
  {
   "cell_type": "code",
   "execution_count": 29,
   "metadata": {},
   "outputs": [],
   "source": [
    "dataset.index = range(2008,2020)"
   ]
  },
  {
   "cell_type": "code",
   "execution_count": 30,
   "metadata": {},
   "outputs": [
    {
     "data": {
      "text/html": [
       "<div>\n",
       "<style scoped>\n",
       "    .dataframe tbody tr th:only-of-type {\n",
       "        vertical-align: middle;\n",
       "    }\n",
       "\n",
       "    .dataframe tbody tr th {\n",
       "        vertical-align: top;\n",
       "    }\n",
       "\n",
       "    .dataframe thead th {\n",
       "        text-align: right;\n",
       "    }\n",
       "</style>\n",
       "<table border=\"1\" class=\"dataframe\">\n",
       "  <thead>\n",
       "    <tr style=\"text-align: right;\">\n",
       "      <th></th>\n",
       "      <th>link</th>\n",
       "      <th>data</th>\n",
       "      <th>content</th>\n",
       "      <th>spech_len</th>\n",
       "    </tr>\n",
       "  </thead>\n",
       "  <tbody>\n",
       "    <tr>\n",
       "      <th>2008</th>\n",
       "      <td>http://kremlin.ru/events/president/transcripts...</td>\n",
       "      <td>2020-01-15</td>\n",
       "      <td>&lt;div class=\"entry-content e-content read__inte...</td>\n",
       "      <td>56852</td>\n",
       "    </tr>\n",
       "    <tr>\n",
       "      <th>2009</th>\n",
       "      <td>http://kremlin.ru/events/president/transcripts...</td>\n",
       "      <td>2019-02-20</td>\n",
       "      <td>&lt;div class=\"entry-content e-content read__inte...</td>\n",
       "      <td>72393</td>\n",
       "    </tr>\n",
       "    <tr>\n",
       "      <th>2010</th>\n",
       "      <td>http://kremlin.ru/events/president/transcripts...</td>\n",
       "      <td>2018-03-01</td>\n",
       "      <td>&lt;div class=\"entry-content e-content read__inte...</td>\n",
       "      <td>96618</td>\n",
       "    </tr>\n",
       "    <tr>\n",
       "      <th>2011</th>\n",
       "      <td>http://kremlin.ru/events/president/transcripts...</td>\n",
       "      <td>2016-12-01</td>\n",
       "      <td>&lt;div class=\"entry-content e-content read__inte...</td>\n",
       "      <td>57977</td>\n",
       "    </tr>\n",
       "    <tr>\n",
       "      <th>2012</th>\n",
       "      <td>http://kremlin.ru/events/president/transcripts...</td>\n",
       "      <td>2015-12-03</td>\n",
       "      <td>&lt;div class=\"entry-content e-content read__inte...</td>\n",
       "      <td>50328</td>\n",
       "    </tr>\n",
       "    <tr>\n",
       "      <th>2013</th>\n",
       "      <td>http://kremlin.ru/events/president/transcripts...</td>\n",
       "      <td>2014-12-04</td>\n",
       "      <td>&lt;div class=\"entry-content e-content read__inte...</td>\n",
       "      <td>53046</td>\n",
       "    </tr>\n",
       "    <tr>\n",
       "      <th>2014</th>\n",
       "      <td>http://kremlin.ru/events/president/transcripts...</td>\n",
       "      <td>2013-12-12</td>\n",
       "      <td>&lt;div class=\"entry-content e-content read__inte...</td>\n",
       "      <td>61645</td>\n",
       "    </tr>\n",
       "    <tr>\n",
       "      <th>2015</th>\n",
       "      <td>http://kremlin.ru/events/president/transcripts...</td>\n",
       "      <td>2012-12-12</td>\n",
       "      <td>&lt;div class=\"entry-content e-content read__inte...</td>\n",
       "      <td>72629</td>\n",
       "    </tr>\n",
       "    <tr>\n",
       "      <th>2016</th>\n",
       "      <td>http://kremlin.ru/events/president/transcripts...</td>\n",
       "      <td>2011-12-22</td>\n",
       "      <td>&lt;div class=\"entry-content e-content read__inte...</td>\n",
       "      <td>51744</td>\n",
       "    </tr>\n",
       "    <tr>\n",
       "      <th>2017</th>\n",
       "      <td>http://kremlin.ru/events/president/transcripts...</td>\n",
       "      <td>2010-11-30</td>\n",
       "      <td>&lt;div class=\"entry-content e-content read__inte...</td>\n",
       "      <td>55298</td>\n",
       "    </tr>\n",
       "    <tr>\n",
       "      <th>2018</th>\n",
       "      <td>http://kremlin.ru/events/president/transcripts...</td>\n",
       "      <td>2009-11-12</td>\n",
       "      <td>&lt;div class=\"entry-content e-content read__inte...</td>\n",
       "      <td>76992</td>\n",
       "    </tr>\n",
       "    <tr>\n",
       "      <th>2019</th>\n",
       "      <td>http://kremlin.ru/events/president/transcripts...</td>\n",
       "      <td>2008-11-05</td>\n",
       "      <td>&lt;div class=\"entry-content e-content read__inte...</td>\n",
       "      <td>65895</td>\n",
       "    </tr>\n",
       "  </tbody>\n",
       "</table>\n",
       "</div>"
      ],
      "text/plain": [
       "                                                   link        data  \\\n",
       "2008  http://kremlin.ru/events/president/transcripts...  2020-01-15   \n",
       "2009  http://kremlin.ru/events/president/transcripts...  2019-02-20   \n",
       "2010  http://kremlin.ru/events/president/transcripts...  2018-03-01   \n",
       "2011  http://kremlin.ru/events/president/transcripts...  2016-12-01   \n",
       "2012  http://kremlin.ru/events/president/transcripts...  2015-12-03   \n",
       "2013  http://kremlin.ru/events/president/transcripts...  2014-12-04   \n",
       "2014  http://kremlin.ru/events/president/transcripts...  2013-12-12   \n",
       "2015  http://kremlin.ru/events/president/transcripts...  2012-12-12   \n",
       "2016  http://kremlin.ru/events/president/transcripts...  2011-12-22   \n",
       "2017  http://kremlin.ru/events/president/transcripts...  2010-11-30   \n",
       "2018  http://kremlin.ru/events/president/transcripts...  2009-11-12   \n",
       "2019  http://kremlin.ru/events/president/transcripts...  2008-11-05   \n",
       "\n",
       "                                                content  spech_len  \n",
       "2008  <div class=\"entry-content e-content read__inte...      56852  \n",
       "2009  <div class=\"entry-content e-content read__inte...      72393  \n",
       "2010  <div class=\"entry-content e-content read__inte...      96618  \n",
       "2011  <div class=\"entry-content e-content read__inte...      57977  \n",
       "2012  <div class=\"entry-content e-content read__inte...      50328  \n",
       "2013  <div class=\"entry-content e-content read__inte...      53046  \n",
       "2014  <div class=\"entry-content e-content read__inte...      61645  \n",
       "2015  <div class=\"entry-content e-content read__inte...      72629  \n",
       "2016  <div class=\"entry-content e-content read__inte...      51744  \n",
       "2017  <div class=\"entry-content e-content read__inte...      55298  \n",
       "2018  <div class=\"entry-content e-content read__inte...      76992  \n",
       "2019  <div class=\"entry-content e-content read__inte...      65895  "
      ]
     },
     "execution_count": 30,
     "metadata": {},
     "output_type": "execute_result"
    }
   ],
   "source": [
    "dataset"
   ]
  },
  {
   "cell_type": "code",
   "execution_count": null,
   "metadata": {},
   "outputs": [],
   "source": []
  }
 ],
 "metadata": {
  "kernelspec": {
   "display_name": "Python 3",
   "language": "python",
   "name": "python3"
  },
  "language_info": {
   "codemirror_mode": {
    "name": "ipython",
    "version": 3
   },
   "file_extension": ".py",
   "mimetype": "text/x-python",
   "name": "python",
   "nbconvert_exporter": "python",
   "pygments_lexer": "ipython3",
   "version": "3.7.1"
  }
 },
 "nbformat": 4,
 "nbformat_minor": 2
}
